{
 "cells": [
  {
   "cell_type": "markdown",
   "id": "64efe10d",
   "metadata": {},
   "source": [
    "## Exploring Music Database"
   ]
  },
  {
   "cell_type": "markdown",
   "id": "111c2914",
   "metadata": {},
   "source": [
    "I am using a databse called chinook that has data about music, including information for example invoices, artist, albums, etc. I used SQL lite to make queries, export the query, and import them into jupyter notebook in order to visualize the output. "
   ]
  },
  {
   "cell_type": "code",
   "execution_count": 1,
   "id": "a5d32d50",
   "metadata": {},
   "outputs": [],
   "source": [
    "import pandas as pd\n",
    "import matplotlib.pyplot as plt\n",
    "import seaborn as sns"
   ]
  },
  {
   "cell_type": "code",
   "execution_count": 2,
   "id": "080e0769",
   "metadata": {},
   "outputs": [],
   "source": [
    "def bar_plot(x , y, color=None, title=None):\n",
    "    '''\n",
    "    x = the dataframe indexed with the feature you want to use as x\n",
    "    y = dataframe indexed with the feature you want to use as y\n",
    "    color= if you want to color each bar\n",
    "    '''\n",
    "    plt.rcParams['figure.figsize'] = [9, 3.5]\n",
    "    plt.rcParams[\"figure.autolayout\"] = True\n",
    "    plt.bar(x, y, color=color)\n",
    "    \n",
    "    plt.title(title)\n",
    "    plt.xlabel(x.name)\n",
    "    plt.ylabel(y.name)\n",
    "    \n",
    "    plt.xticks(rotation=45, fontsize=10);\n",
    "    "
   ]
  },
  {
   "cell_type": "markdown",
   "id": "1d2c7018",
   "metadata": {},
   "source": [
    "#### Country Revenue"
   ]
  },
  {
   "cell_type": "code",
   "execution_count": 15,
   "id": "828b4ad7",
   "metadata": {
    "scrolled": true
   },
   "outputs": [
    {
     "data": {
      "text/html": [
       "<div>\n",
       "<style scoped>\n",
       "    .dataframe tbody tr th:only-of-type {\n",
       "        vertical-align: middle;\n",
       "    }\n",
       "\n",
       "    .dataframe tbody tr th {\n",
       "        vertical-align: top;\n",
       "    }\n",
       "\n",
       "    .dataframe thead th {\n",
       "        text-align: right;\n",
       "    }\n",
       "</style>\n",
       "<table border=\"1\" class=\"dataframe\">\n",
       "  <thead>\n",
       "    <tr style=\"text-align: right;\">\n",
       "      <th></th>\n",
       "      <th>Country</th>\n",
       "      <th>Revenue</th>\n",
       "    </tr>\n",
       "  </thead>\n",
       "  <tbody>\n",
       "    <tr>\n",
       "      <th>0</th>\n",
       "      <td>USA</td>\n",
       "      <td>523.06</td>\n",
       "    </tr>\n",
       "    <tr>\n",
       "      <th>1</th>\n",
       "      <td>Canada</td>\n",
       "      <td>303.96</td>\n",
       "    </tr>\n",
       "    <tr>\n",
       "      <th>2</th>\n",
       "      <td>France</td>\n",
       "      <td>195.10</td>\n",
       "    </tr>\n",
       "    <tr>\n",
       "      <th>3</th>\n",
       "      <td>Brazil</td>\n",
       "      <td>190.10</td>\n",
       "    </tr>\n",
       "    <tr>\n",
       "      <th>4</th>\n",
       "      <td>Germany</td>\n",
       "      <td>156.48</td>\n",
       "    </tr>\n",
       "    <tr>\n",
       "      <th>5</th>\n",
       "      <td>United Kingdom</td>\n",
       "      <td>112.86</td>\n",
       "    </tr>\n",
       "    <tr>\n",
       "      <th>6</th>\n",
       "      <td>Czech Republic</td>\n",
       "      <td>90.24</td>\n",
       "    </tr>\n",
       "    <tr>\n",
       "      <th>7</th>\n",
       "      <td>Portugal</td>\n",
       "      <td>77.24</td>\n",
       "    </tr>\n",
       "    <tr>\n",
       "      <th>8</th>\n",
       "      <td>India</td>\n",
       "      <td>75.26</td>\n",
       "    </tr>\n",
       "    <tr>\n",
       "      <th>9</th>\n",
       "      <td>Chile</td>\n",
       "      <td>46.62</td>\n",
       "    </tr>\n",
       "    <tr>\n",
       "      <th>10</th>\n",
       "      <td>Ireland</td>\n",
       "      <td>45.62</td>\n",
       "    </tr>\n",
       "    <tr>\n",
       "      <th>11</th>\n",
       "      <td>Hungary</td>\n",
       "      <td>45.62</td>\n",
       "    </tr>\n",
       "    <tr>\n",
       "      <th>12</th>\n",
       "      <td>Austria</td>\n",
       "      <td>42.62</td>\n",
       "    </tr>\n",
       "    <tr>\n",
       "      <th>13</th>\n",
       "      <td>Finland</td>\n",
       "      <td>41.62</td>\n",
       "    </tr>\n",
       "    <tr>\n",
       "      <th>14</th>\n",
       "      <td>Netherlands</td>\n",
       "      <td>40.62</td>\n",
       "    </tr>\n",
       "    <tr>\n",
       "      <th>15</th>\n",
       "      <td>Norway</td>\n",
       "      <td>39.62</td>\n",
       "    </tr>\n",
       "    <tr>\n",
       "      <th>16</th>\n",
       "      <td>Sweden</td>\n",
       "      <td>38.62</td>\n",
       "    </tr>\n",
       "    <tr>\n",
       "      <th>17</th>\n",
       "      <td>Spain</td>\n",
       "      <td>37.62</td>\n",
       "    </tr>\n",
       "    <tr>\n",
       "      <th>18</th>\n",
       "      <td>Poland</td>\n",
       "      <td>37.62</td>\n",
       "    </tr>\n",
       "    <tr>\n",
       "      <th>19</th>\n",
       "      <td>Italy</td>\n",
       "      <td>37.62</td>\n",
       "    </tr>\n",
       "    <tr>\n",
       "      <th>20</th>\n",
       "      <td>Denmark</td>\n",
       "      <td>37.62</td>\n",
       "    </tr>\n",
       "    <tr>\n",
       "      <th>21</th>\n",
       "      <td>Belgium</td>\n",
       "      <td>37.62</td>\n",
       "    </tr>\n",
       "    <tr>\n",
       "      <th>22</th>\n",
       "      <td>Australia</td>\n",
       "      <td>37.62</td>\n",
       "    </tr>\n",
       "    <tr>\n",
       "      <th>23</th>\n",
       "      <td>Argentina</td>\n",
       "      <td>37.62</td>\n",
       "    </tr>\n",
       "  </tbody>\n",
       "</table>\n",
       "</div>"
      ],
      "text/plain": [
       "           Country  Revenue\n",
       "0              USA   523.06\n",
       "1           Canada   303.96\n",
       "2           France   195.10\n",
       "3           Brazil   190.10\n",
       "4          Germany   156.48\n",
       "5   United Kingdom   112.86\n",
       "6   Czech Republic    90.24\n",
       "7         Portugal    77.24\n",
       "8            India    75.26\n",
       "9            Chile    46.62\n",
       "10         Ireland    45.62\n",
       "11         Hungary    45.62\n",
       "12         Austria    42.62\n",
       "13         Finland    41.62\n",
       "14     Netherlands    40.62\n",
       "15          Norway    39.62\n",
       "16          Sweden    38.62\n",
       "17           Spain    37.62\n",
       "18          Poland    37.62\n",
       "19           Italy    37.62\n",
       "20         Denmark    37.62\n",
       "21         Belgium    37.62\n",
       "22       Australia    37.62\n",
       "23       Argentina    37.62"
      ]
     },
     "execution_count": 15,
     "metadata": {},
     "output_type": "execute_result"
    }
   ],
   "source": [
    "country_revenue = pd.read_csv('country_revenue.csv')\n",
    "country_revenue"
   ]
  },
  {
   "cell_type": "code",
   "execution_count": 17,
   "id": "34889c52",
   "metadata": {},
   "outputs": [
    {
     "data": {
      "image/png": "[encoded data removed]",
      "text/plain": [
       "<Figure size 648x252 with 1 Axes>"
      ]
     },
     "metadata": {
      "needs_background": "light"
     },
     "output_type": "display_data"
    }
   ],
   "source": [
    "# country by revenue\n",
    "bar_plot(country_revenue['Country'][:10], country_revenue['Revenue'][:10], title='Country Revenue')"
   ]
  },
  {
   "cell_type": "markdown",
   "id": "f2c0971b",
   "metadata": {},
   "source": [
    "The data shows USA is the top country for Revenue at \\\\$523.06 while Canada and France are \\\\$303.96 and \\\\$195.10 respectively."
   ]
  },
  {
   "cell_type": "markdown",
   "id": "cff0024b",
   "metadata": {},
   "source": [
    "#### Album Revenue"
   ]
  },
  {
   "cell_type": "code",
   "execution_count": 5,
   "id": "46f99075",
   "metadata": {
    "scrolled": true
   },
   "outputs": [
    {
     "data": {
      "text/html": [
       "<div>\n",
       "<style scoped>\n",
       "    .dataframe tbody tr th:only-of-type {\n",
       "        vertical-align: middle;\n",
       "    }\n",
       "\n",
       "    .dataframe tbody tr th {\n",
       "        vertical-align: top;\n",
       "    }\n",
       "\n",
       "    .dataframe thead th {\n",
       "        text-align: right;\n",
       "    }\n",
       "</style>\n",
       "<table border=\"1\" class=\"dataframe\">\n",
       "  <thead>\n",
       "    <tr style=\"text-align: right;\">\n",
       "      <th></th>\n",
       "      <th>Album</th>\n",
       "      <th>Revenue</th>\n",
       "    </tr>\n",
       "  </thead>\n",
       "  <tbody>\n",
       "    <tr>\n",
       "      <th>0</th>\n",
       "      <td>Greatest Hits</td>\n",
       "      <td>372.51</td>\n",
       "    </tr>\n",
       "    <tr>\n",
       "      <th>1</th>\n",
       "      <td>Lost, Season 2</td>\n",
       "      <td>290.18</td>\n",
       "    </tr>\n",
       "    <tr>\n",
       "      <th>2</th>\n",
       "      <td>Heroes, Season 1</td>\n",
       "      <td>238.61</td>\n",
       "    </tr>\n",
       "    <tr>\n",
       "      <th>3</th>\n",
       "      <td>Lost, Season 1</td>\n",
       "      <td>223.65</td>\n",
       "    </tr>\n",
       "    <tr>\n",
       "      <th>4</th>\n",
       "      <td>Lost, Season 3</td>\n",
       "      <td>211.80</td>\n",
       "    </tr>\n",
       "    <tr>\n",
       "      <th>...</th>\n",
       "      <td>...</td>\n",
       "      <td>...</td>\n",
       "    </tr>\n",
       "    <tr>\n",
       "      <th>299</th>\n",
       "      <td>Chopin: Piano Concertos Nos. 1 &amp; 2</td>\n",
       "      <td>1.98</td>\n",
       "    </tr>\n",
       "    <tr>\n",
       "      <th>300</th>\n",
       "      <td>Beethoven: Symphony No. 6 'Pastoral' Etc.</td>\n",
       "      <td>1.98</td>\n",
       "    </tr>\n",
       "    <tr>\n",
       "      <th>301</th>\n",
       "      <td>Bartok: Violin &amp; Viola Concertos</td>\n",
       "      <td>1.98</td>\n",
       "    </tr>\n",
       "    <tr>\n",
       "      <th>302</th>\n",
       "      <td>Bach: The Brandenburg Concertos</td>\n",
       "      <td>1.98</td>\n",
       "    </tr>\n",
       "    <tr>\n",
       "      <th>303</th>\n",
       "      <td>Carried to Dust (Bonus Track Version)</td>\n",
       "      <td>0.99</td>\n",
       "    </tr>\n",
       "  </tbody>\n",
       "</table>\n",
       "<p>304 rows × 2 columns</p>\n",
       "</div>"
      ],
      "text/plain": [
       "                                         Album  Revenue\n",
       "0                                Greatest Hits   372.51\n",
       "1                               Lost, Season 2   290.18\n",
       "2                             Heroes, Season 1   238.61\n",
       "3                               Lost, Season 1   223.65\n",
       "4                               Lost, Season 3   211.80\n",
       "..                                         ...      ...\n",
       "299         Chopin: Piano Concertos Nos. 1 & 2     1.98\n",
       "300  Beethoven: Symphony No. 6 'Pastoral' Etc.     1.98\n",
       "301           Bartok: Violin & Viola Concertos     1.98\n",
       "302            Bach: The Brandenburg Concertos     1.98\n",
       "303      Carried to Dust (Bonus Track Version)     0.99\n",
       "\n",
       "[304 rows x 2 columns]"
      ]
     },
     "execution_count": 5,
     "metadata": {},
     "output_type": "execute_result"
    }
   ],
   "source": [
    "album_revenue = pd.read_csv('album_revenue.csv')\n",
    "pd.DataFrame(album_revenue)"
   ]
  },
  {
   "cell_type": "code",
   "execution_count": 6,
   "id": "08b7d79d",
   "metadata": {},
   "outputs": [
    {
     "data": {
      "image/png": "[encoded data removed]",
      "text/plain": [
       "<Figure size 648x252 with 1 Axes>"
      ]
     },
     "metadata": {
      "needs_background": "light"
     },
     "output_type": "display_data"
    }
   ],
   "source": [
    "#top 10 album revenue\n",
    "bar_plot(album_revenue['Album'][:10], album_revenue['Revenue'][:10])"
   ]
  },
  {
   "cell_type": "markdown",
   "id": "82b7a7b3",
   "metadata": {},
   "source": [
    "It looks like some TV shows were included in the Album sales. Though this information maybe useful if your just trying to make money off of a soundtrack/ music, but may not really apply to figuring out which genre or type of artist to invest in. I only want actual music artists though so I will need to filter out the TV music. I will do this in sql and import a filtered query. "
   ]
  },
  {
   "cell_type": "code",
   "execution_count": 7,
   "id": "53c9d5a2",
   "metadata": {},
   "outputs": [
    {
     "data": {
      "text/html": [
       "<div>\n",
       "<style scoped>\n",
       "    .dataframe tbody tr th:only-of-type {\n",
       "        vertical-align: middle;\n",
       "    }\n",
       "\n",
       "    .dataframe tbody tr th {\n",
       "        vertical-align: top;\n",
       "    }\n",
       "\n",
       "    .dataframe thead th {\n",
       "        text-align: right;\n",
       "    }\n",
       "</style>\n",
       "<table border=\"1\" class=\"dataframe\">\n",
       "  <thead>\n",
       "    <tr style=\"text-align: right;\">\n",
       "      <th></th>\n",
       "      <th>Album</th>\n",
       "      <th>Genre</th>\n",
       "      <th>Revenue</th>\n",
       "    </tr>\n",
       "  </thead>\n",
       "  <tbody>\n",
       "    <tr>\n",
       "      <th>0</th>\n",
       "      <td>Greatest Hits</td>\n",
       "      <td>Rock</td>\n",
       "      <td>372.51</td>\n",
       "    </tr>\n",
       "    <tr>\n",
       "      <th>1</th>\n",
       "      <td>Minha Historia</td>\n",
       "      <td>Latin</td>\n",
       "      <td>185.13</td>\n",
       "    </tr>\n",
       "    <tr>\n",
       "      <th>2</th>\n",
       "      <td>Ao Vivo [IMPORT]</td>\n",
       "      <td>Latin</td>\n",
       "      <td>161.74</td>\n",
       "    </tr>\n",
       "    <tr>\n",
       "      <th>3</th>\n",
       "      <td>Unplugged</td>\n",
       "      <td>Blues</td>\n",
       "      <td>151.47</td>\n",
       "    </tr>\n",
       "    <tr>\n",
       "      <th>4</th>\n",
       "      <td>Volume Dois</td>\n",
       "      <td>Alternative &amp; Punk</td>\n",
       "      <td>139.99</td>\n",
       "    </tr>\n",
       "    <tr>\n",
       "      <th>...</th>\n",
       "      <td>...</td>\n",
       "      <td>...</td>\n",
       "      <td>...</td>\n",
       "    </tr>\n",
       "    <tr>\n",
       "      <th>282</th>\n",
       "      <td>Chopin: Piano Concertos Nos. 1 &amp; 2</td>\n",
       "      <td>Classical</td>\n",
       "      <td>1.98</td>\n",
       "    </tr>\n",
       "    <tr>\n",
       "      <th>283</th>\n",
       "      <td>Beethoven: Symphony No. 6 'Pastoral' Etc.</td>\n",
       "      <td>Classical</td>\n",
       "      <td>1.98</td>\n",
       "    </tr>\n",
       "    <tr>\n",
       "      <th>284</th>\n",
       "      <td>Bartok: Violin &amp; Viola Concertos</td>\n",
       "      <td>Classical</td>\n",
       "      <td>1.98</td>\n",
       "    </tr>\n",
       "    <tr>\n",
       "      <th>285</th>\n",
       "      <td>Bach: The Brandenburg Concertos</td>\n",
       "      <td>Classical</td>\n",
       "      <td>1.98</td>\n",
       "    </tr>\n",
       "    <tr>\n",
       "      <th>286</th>\n",
       "      <td>Carried to Dust (Bonus Track Version)</td>\n",
       "      <td>Alternative</td>\n",
       "      <td>0.99</td>\n",
       "    </tr>\n",
       "  </tbody>\n",
       "</table>\n",
       "<p>287 rows × 3 columns</p>\n",
       "</div>"
      ],
      "text/plain": [
       "                                         Album               Genre  Revenue\n",
       "0                                Greatest Hits                Rock   372.51\n",
       "1                               Minha Historia               Latin   185.13\n",
       "2                             Ao Vivo [IMPORT]               Latin   161.74\n",
       "3                                    Unplugged               Blues   151.47\n",
       "4                                  Volume Dois  Alternative & Punk   139.99\n",
       "..                                         ...                 ...      ...\n",
       "282         Chopin: Piano Concertos Nos. 1 & 2           Classical     1.98\n",
       "283  Beethoven: Symphony No. 6 'Pastoral' Etc.           Classical     1.98\n",
       "284           Bartok: Violin & Viola Concertos           Classical     1.98\n",
       "285            Bach: The Brandenburg Concertos           Classical     1.98\n",
       "286      Carried to Dust (Bonus Track Version)         Alternative     0.99\n",
       "\n",
       "[287 rows x 3 columns]"
      ]
     },
     "execution_count": 7,
     "metadata": {},
     "output_type": "execute_result"
    }
   ],
   "source": [
    "album_genre_revenue = pd.read_csv('album_genre_revenue.csv')\n",
    "album_genre_revenue"
   ]
  },
  {
   "cell_type": "code",
   "execution_count": 8,
   "id": "43992974",
   "metadata": {},
   "outputs": [
    {
     "data": {
      "image/png": "[encoded data removed]",
      "text/plain": [
       "<Figure size 648x252 with 1 Axes>"
      ]
     },
     "metadata": {
      "needs_background": "light"
     },
     "output_type": "display_data"
    }
   ],
   "source": [
    "# top 10 musical albums\n",
    "# note: try to color each bar by the genre. \n",
    "bar_plot(album_genre_revenue['Album'][:10], album_genre_revenue['Revenue'][:10])"
   ]
  },
  {
   "cell_type": "code",
   "execution_count": null,
   "id": "715eb335",
   "metadata": {},
   "outputs": [],
   "source": [
    "This looks better since these are actual music Albums."
   ]
  },
  {
   "cell_type": "markdown",
   "id": "b1bda0b3",
   "metadata": {},
   "source": [
    "#### Artists Revenue"
   ]
  },
  {
   "cell_type": "code",
   "execution_count": 9,
   "id": "a4120ac0",
   "metadata": {},
   "outputs": [
    {
     "data": {
      "text/html": [
       "<div>\n",
       "<style scoped>\n",
       "    .dataframe tbody tr th:only-of-type {\n",
       "        vertical-align: middle;\n",
       "    }\n",
       "\n",
       "    .dataframe tbody tr th {\n",
       "        vertical-align: top;\n",
       "    }\n",
       "\n",
       "    .dataframe thead th {\n",
       "        text-align: right;\n",
       "    }\n",
       "</style>\n",
       "<table border=\"1\" class=\"dataframe\">\n",
       "  <thead>\n",
       "    <tr style=\"text-align: right;\">\n",
       "      <th></th>\n",
       "      <th>Artists</th>\n",
       "      <th>Revenue</th>\n",
       "    </tr>\n",
       "  </thead>\n",
       "  <tbody>\n",
       "    <tr>\n",
       "      <th>0</th>\n",
       "      <td>The Police</td>\n",
       "      <td>372.51</td>\n",
       "    </tr>\n",
       "    <tr>\n",
       "      <th>1</th>\n",
       "      <td>Ton Koopman</td>\n",
       "      <td>290.18</td>\n",
       "    </tr>\n",
       "    <tr>\n",
       "      <th>2</th>\n",
       "      <td>Leonard Bernstein &amp; New York Philharmonic</td>\n",
       "      <td>238.61</td>\n",
       "    </tr>\n",
       "    <tr>\n",
       "      <th>3</th>\n",
       "      <td>Aaron Copland &amp; London Symphony Orchestra</td>\n",
       "      <td>223.65</td>\n",
       "    </tr>\n",
       "    <tr>\n",
       "      <th>4</th>\n",
       "      <td>Boston Symphony Orchestra &amp; Seiji Ozawa</td>\n",
       "      <td>211.80</td>\n",
       "    </tr>\n",
       "    <tr>\n",
       "      <th>...</th>\n",
       "      <td>...</td>\n",
       "      <td>...</td>\n",
       "    </tr>\n",
       "    <tr>\n",
       "      <th>261</th>\n",
       "      <td>Snow Patrol</td>\n",
       "      <td>12.87</td>\n",
       "    </tr>\n",
       "    <tr>\n",
       "      <th>262</th>\n",
       "      <td>Accept</td>\n",
       "      <td>10.89</td>\n",
       "    </tr>\n",
       "    <tr>\n",
       "      <th>263</th>\n",
       "      <td>Jack Johnson</td>\n",
       "      <td>5.94</td>\n",
       "    </tr>\n",
       "    <tr>\n",
       "      <th>264</th>\n",
       "      <td>Ben Harper</td>\n",
       "      <td>3.96</td>\n",
       "    </tr>\n",
       "    <tr>\n",
       "      <th>265</th>\n",
       "      <td>Amy Winehouse</td>\n",
       "      <td>2.98</td>\n",
       "    </tr>\n",
       "  </tbody>\n",
       "</table>\n",
       "<p>266 rows × 2 columns</p>\n",
       "</div>"
      ],
      "text/plain": [
       "                                       Artists  Revenue\n",
       "0                                   The Police   372.51\n",
       "1                                  Ton Koopman   290.18\n",
       "2    Leonard Bernstein & New York Philharmonic   238.61\n",
       "3    Aaron Copland & London Symphony Orchestra   223.65\n",
       "4      Boston Symphony Orchestra & Seiji Ozawa   211.80\n",
       "..                                         ...      ...\n",
       "261                                Snow Patrol    12.87\n",
       "262                                     Accept    10.89\n",
       "263                               Jack Johnson     5.94\n",
       "264                                 Ben Harper     3.96\n",
       "265                              Amy Winehouse     2.98\n",
       "\n",
       "[266 rows x 2 columns]"
      ]
     },
     "execution_count": 9,
     "metadata": {},
     "output_type": "execute_result"
    }
   ],
   "source": [
    "artist_revenue = pd.read_csv('artist_revenue.csv')\n",
    "artist_revenue"
   ]
  },
  {
   "cell_type": "code",
   "execution_count": 10,
   "id": "e10b85dc",
   "metadata": {},
   "outputs": [
    {
     "data": {
      "image/png": "[encoded data removed]",
      "text/plain": [
       "<Figure size 648x252 with 1 Axes>"
      ]
     },
     "metadata": {
      "needs_background": "light"
     },
     "output_type": "display_data"
    }
   ],
   "source": [
    "#top 10 artist revenue\n",
    "bar_plot(artist_revenue['Artists'][:10], artist_revenue['Revenue'][:10])"
   ]
  },
  {
   "cell_type": "markdown",
   "id": "7ce74f68",
   "metadata": {},
   "source": [
    "#### Genre Revenue"
   ]
  },
  {
   "cell_type": "code",
   "execution_count": 11,
   "id": "00414e12",
   "metadata": {},
   "outputs": [
    {
     "data": {
      "text/html": [
       "<div>\n",
       "<style scoped>\n",
       "    .dataframe tbody tr th:only-of-type {\n",
       "        vertical-align: middle;\n",
       "    }\n",
       "\n",
       "    .dataframe tbody tr th {\n",
       "        vertical-align: top;\n",
       "    }\n",
       "\n",
       "    .dataframe thead th {\n",
       "        text-align: right;\n",
       "    }\n",
       "</style>\n",
       "<table border=\"1\" class=\"dataframe\">\n",
       "  <thead>\n",
       "    <tr style=\"text-align: right;\">\n",
       "      <th></th>\n",
       "      <th>Genre</th>\n",
       "      <th>Revenue</th>\n",
       "    </tr>\n",
       "  </thead>\n",
       "  <tbody>\n",
       "    <tr>\n",
       "      <th>0</th>\n",
       "      <td>Rock</td>\n",
       "      <td>7720.02</td>\n",
       "    </tr>\n",
       "    <tr>\n",
       "      <th>1</th>\n",
       "      <td>Latin</td>\n",
       "      <td>3472.55</td>\n",
       "    </tr>\n",
       "    <tr>\n",
       "      <th>2</th>\n",
       "      <td>Metal</td>\n",
       "      <td>2093.13</td>\n",
       "    </tr>\n",
       "    <tr>\n",
       "      <th>3</th>\n",
       "      <td>Alternative &amp; Punk</td>\n",
       "      <td>1961.66</td>\n",
       "    </tr>\n",
       "    <tr>\n",
       "      <th>4</th>\n",
       "      <td>TV Shows</td>\n",
       "      <td>817.71</td>\n",
       "    </tr>\n",
       "    <tr>\n",
       "      <th>5</th>\n",
       "      <td>Jazz</td>\n",
       "      <td>746.46</td>\n",
       "    </tr>\n",
       "    <tr>\n",
       "      <th>6</th>\n",
       "      <td>Drama</td>\n",
       "      <td>544.61</td>\n",
       "    </tr>\n",
       "    <tr>\n",
       "      <th>7</th>\n",
       "      <td>Blues</td>\n",
       "      <td>429.66</td>\n",
       "    </tr>\n",
       "    <tr>\n",
       "      <th>8</th>\n",
       "      <td>R&amp;B/Soul</td>\n",
       "      <td>338.62</td>\n",
       "    </tr>\n",
       "    <tr>\n",
       "      <th>9</th>\n",
       "      <td>Reggae</td>\n",
       "      <td>332.64</td>\n",
       "    </tr>\n",
       "    <tr>\n",
       "      <th>10</th>\n",
       "      <td>Classical</td>\n",
       "      <td>317.04</td>\n",
       "    </tr>\n",
       "    <tr>\n",
       "      <th>11</th>\n",
       "      <td>Soundtrack</td>\n",
       "      <td>242.55</td>\n",
       "    </tr>\n",
       "    <tr>\n",
       "      <th>12</th>\n",
       "      <td>Pop</td>\n",
       "      <td>239.75</td>\n",
       "    </tr>\n",
       "    <tr>\n",
       "      <th>13</th>\n",
       "      <td>Alternative</td>\n",
       "      <td>211.17</td>\n",
       "    </tr>\n",
       "    <tr>\n",
       "      <th>14</th>\n",
       "      <td>Sci Fi &amp; Fantasy</td>\n",
       "      <td>198.87</td>\n",
       "    </tr>\n",
       "    <tr>\n",
       "      <th>15</th>\n",
       "      <td>World</td>\n",
       "      <td>182.18</td>\n",
       "    </tr>\n",
       "    <tr>\n",
       "      <th>16</th>\n",
       "      <td>Hip Hop/Rap</td>\n",
       "      <td>166.41</td>\n",
       "    </tr>\n",
       "    <tr>\n",
       "      <th>17</th>\n",
       "      <td>Heavy Metal</td>\n",
       "      <td>161.37</td>\n",
       "    </tr>\n",
       "    <tr>\n",
       "      <th>18</th>\n",
       "      <td>Electronica/Dance</td>\n",
       "      <td>149.62</td>\n",
       "    </tr>\n",
       "    <tr>\n",
       "      <th>19</th>\n",
       "      <td>Easy Listening</td>\n",
       "      <td>138.60</td>\n",
       "    </tr>\n",
       "    <tr>\n",
       "      <th>20</th>\n",
       "      <td>Comedy</td>\n",
       "      <td>112.30</td>\n",
       "    </tr>\n",
       "    <tr>\n",
       "      <th>21</th>\n",
       "      <td>Science Fiction</td>\n",
       "      <td>102.41</td>\n",
       "    </tr>\n",
       "    <tr>\n",
       "      <th>22</th>\n",
       "      <td>Bossa Nova</td>\n",
       "      <td>86.13</td>\n",
       "    </tr>\n",
       "    <tr>\n",
       "      <th>23</th>\n",
       "      <td>Rock And Roll</td>\n",
       "      <td>83.16</td>\n",
       "    </tr>\n",
       "  </tbody>\n",
       "</table>\n",
       "</div>"
      ],
      "text/plain": [
       "                 Genre  Revenue\n",
       "0                 Rock  7720.02\n",
       "1                Latin  3472.55\n",
       "2                Metal  2093.13\n",
       "3   Alternative & Punk  1961.66\n",
       "4             TV Shows   817.71\n",
       "5                 Jazz   746.46\n",
       "6                Drama   544.61\n",
       "7                Blues   429.66\n",
       "8             R&B/Soul   338.62\n",
       "9               Reggae   332.64\n",
       "10           Classical   317.04\n",
       "11          Soundtrack   242.55\n",
       "12                 Pop   239.75\n",
       "13         Alternative   211.17\n",
       "14    Sci Fi & Fantasy   198.87\n",
       "15               World   182.18\n",
       "16         Hip Hop/Rap   166.41\n",
       "17         Heavy Metal   161.37\n",
       "18   Electronica/Dance   149.62\n",
       "19      Easy Listening   138.60\n",
       "20              Comedy   112.30\n",
       "21     Science Fiction   102.41\n",
       "22          Bossa Nova    86.13\n",
       "23       Rock And Roll    83.16"
      ]
     },
     "execution_count": 11,
     "metadata": {},
     "output_type": "execute_result"
    }
   ],
   "source": [
    "genre_revenue = pd.read_csv('genre_revenue.csv')\n",
    "genre_revenue"
   ]
  },
  {
   "cell_type": "code",
   "execution_count": 14,
   "id": "6ca46358",
   "metadata": {},
   "outputs": [
    {
     "data": {
      "image/png": "[encoded data removed]",
      "text/plain": [
       "<Figure size 648x252 with 1 Axes>"
      ]
     },
     "metadata": {
      "needs_background": "light"
     },
     "output_type": "display_data"
    }
   ],
   "source": [
    "bar_plot(genre_revenue['Genre'], genre_revenue['Revenue'])"
   ]
  },
  {
   "cell_type": "markdown",
   "id": "602e88b1",
   "metadata": {},
   "source": [
    "#### Type of Media Count"
   ]
  },
  {
   "cell_type": "code",
   "execution_count": null,
   "id": "d9c31d8b",
   "metadata": {},
   "outputs": [],
   "source": [
    "media_types_count = pd.read_csv('media_types_count.csv')\n",
    "media_types_count"
   ]
  },
  {
   "cell_type": "code",
   "execution_count": null,
   "id": "991f2629",
   "metadata": {},
   "outputs": [],
   "source": [
    "bar_plot(media_types_count['Name'], media_types_count['Count'])"
   ]
  },
  {
   "cell_type": "code",
   "execution_count": null,
   "id": "60b19fe5",
   "metadata": {},
   "outputs": [],
   "source": []
  }
 ],
 "metadata": {
  "kernelspec": {
   "display_name": "Python 3",
   "language": "python",
   "name": "python3"
  },
  "language_info": {
   "codemirror_mode": {
    "name": "ipython",
    "version": 3
   },
   "file_extension": ".py",
   "mimetype": "text/x-python",
   "name": "python",
   "nbconvert_exporter": "python",
   "pygments_lexer": "ipython3",
   "version": "3.8.8"
  }
 },
 "nbformat": 4,
 "nbformat_minor": 5
}
